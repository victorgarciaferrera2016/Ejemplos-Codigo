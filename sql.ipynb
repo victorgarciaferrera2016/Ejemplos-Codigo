{
 "cells": [
  {
   "cell_type": "code",
   "execution_count": 23,
   "id": "777d37cd-a446-414e-a801-f901617de208",
   "metadata": {},
   "outputs": [
    {
     "name": "stdout",
     "output_type": "stream",
     "text": [
      "['SQL Server', 'SQL Server Native Client RDA 11.0', 'ODBC Driver 17 for SQL Server']\n",
      "<pyodbc.Connection object at 0x000001C606277AB0>\n",
      "['SQL Server', 'SQL Server Native Client RDA 11.0', 'ODBC Driver 17 for SQL Server']\n",
      "<pyodbc.Cursor object at 0x000001C600AD32B0>\n",
      "(1, 'APLICACIONES')\n",
      "(2, 'APLICACIONES DEL NEGOCIO')\n",
      "(3, 'ATM')\n",
      "(4, 'AUDIO Y VIDEO')\n",
      "(5, 'CAJAS DE SEGURIDAD')\n",
      "(6, 'CAJAS FUERTES')\n",
      "(7, 'CERRAJERIA')\n",
      "(8, 'COMEDOR/GYM/TOPICO')\n",
      "(9, 'DISPOSITIVO DE SEGURIDAD ELECTRONICA')\n",
      "(10, 'EDIFICIO')\n",
      "(11, 'ENSERES MENORES')\n",
      "(12, 'EQUIPO')\n",
      "(13, 'EQUIPO DE COMPUTO')\n",
      "(14, 'EQUIPO FINANCIERO')\n",
      "(15, 'HUELLERO')\n",
      "(16, 'IMAGEN')\n",
      "(17, 'INFRAESTRUCTURA')\n",
      "(18, 'INSTALACIONES ELECTRICAS')\n",
      "(19, 'INSTALACIONES SANITARIAS')\n",
      "(20, 'LIMPIEZA')\n",
      "(21, 'LUMINARIAS')\n",
      "(22, 'MOBILIARIO')\n",
      "(23, 'PERIFERICO')\n",
      "(24, 'PRE REGULATORIO')\n",
      "(25, 'REGULATORIO')\n",
      "(26, 'SALAS DE REUNION')\n",
      "(27, 'SERVICIOS HIGIENICOS')\n",
      "(28, 'SERVICIOS MENORES')\n",
      "(29, 'SILLAS')\n",
      "(30, 'SUMINISTROS')\n",
      "(100, 'NO DEFINIDO')\n"
     ]
    }
   ],
   "source": [
    "\n",
    "import pyodbc\n",
    "print(pyodbc.drivers())  \n",
    "# Establecer la conexión con la base de datos\n",
    "conn = pyodbc.connect('DRIVER={SQL Server};'\n",
    "                      'SERVER=localhost;'\n",
    "                      'DATABASE=DATAWAREHOUSE;'\n",
    "                      'UID=sa;'\n",
    "                      'PWD=Sql13701370')\n",
    "\n",
    "print(conn)\n",
    "print(pyodbc.drivers())  \n",
    "# Crear un cursor para ejecutar consultas\n",
    "cursor = conn.cursor()\n",
    "print(cursor)\n",
    "# Ejecutar una consulta SQL\n",
    "cursor.execute('SELECT * FROM DimTipo')\n",
    "\n",
    "# Obtener los resultados de la consulta\n",
    "resultados = cursor.fetchall()\n",
    "\n",
    "# Imprimir los resultados\n",
    "for fila in resultados:\n",
    "    print(fila)\n",
    "\n",
    "# Cerrar el cursor y la conexión\n",
    "cursor.close()\n",
    "conn.close()\n"
   ]
  },
  {
   "cell_type": "code",
   "execution_count": 25,
   "id": "83f6d43e-d046-407d-8fbe-58e656526469",
   "metadata": {},
   "outputs": [
    {
     "name": "stdout",
     "output_type": "stream",
     "text": [
      "Collecting category_encoders\n",
      "  Obtaining dependency information for category_encoders from https://files.pythonhosted.org/packages/7f/e5/79a62e5c9c9ddbfa9ff5222240d408c1eeea4e38741a0dc8343edc7ef1ec/category_encoders-2.6.3-py2.py3-none-any.whl.metadata\n",
      "  Downloading category_encoders-2.6.3-py2.py3-none-any.whl.metadata (8.0 kB)\n",
      "Requirement already satisfied: numpy>=1.14.0 in d:\\programas\\anaconda3\\lib\\site-packages (from category_encoders) (1.26.4)\n",
      "Requirement already satisfied: scikit-learn>=0.20.0 in d:\\programas\\anaconda3\\lib\\site-packages (from category_encoders) (1.3.0)\n",
      "Requirement already satisfied: scipy>=1.0.0 in d:\\programas\\anaconda3\\lib\\site-packages (from category_encoders) (1.10.1)\n",
      "Requirement already satisfied: statsmodels>=0.9.0 in d:\\programas\\anaconda3\\lib\\site-packages (from category_encoders) (0.14.0)\n",
      "Requirement already satisfied: pandas>=1.0.5 in d:\\programas\\anaconda3\\lib\\site-packages (from category_encoders) (2.2.1)\n",
      "Requirement already satisfied: patsy>=0.5.1 in d:\\programas\\anaconda3\\lib\\site-packages (from category_encoders) (0.5.3)\n",
      "Requirement already satisfied: python-dateutil>=2.8.2 in d:\\programas\\anaconda3\\lib\\site-packages (from pandas>=1.0.5->category_encoders) (2.8.2)\n",
      "Requirement already satisfied: pytz>=2020.1 in d:\\programas\\anaconda3\\lib\\site-packages (from pandas>=1.0.5->category_encoders) (2023.3.post1)\n",
      "Requirement already satisfied: tzdata>=2022.7 in d:\\programas\\anaconda3\\lib\\site-packages (from pandas>=1.0.5->category_encoders) (2023.3)\n",
      "Requirement already satisfied: six in d:\\programas\\anaconda3\\lib\\site-packages (from patsy>=0.5.1->category_encoders) (1.16.0)\n",
      "Requirement already satisfied: joblib>=1.1.1 in d:\\programas\\anaconda3\\lib\\site-packages (from scikit-learn>=0.20.0->category_encoders) (1.2.0)\n",
      "Requirement already satisfied: threadpoolctl>=2.0.0 in d:\\programas\\anaconda3\\lib\\site-packages (from scikit-learn>=0.20.0->category_encoders) (2.2.0)\n",
      "Requirement already satisfied: packaging>=21.3 in d:\\programas\\anaconda3\\lib\\site-packages (from statsmodels>=0.9.0->category_encoders) (23.2)\n",
      "Downloading category_encoders-2.6.3-py2.py3-none-any.whl (81 kB)\n",
      "   ---------------------------------------- 0.0/81.9 kB ? eta -:--:--\n",
      "   ----- ---------------------------------- 10.2/81.9 kB ? eta -:--:--\n",
      "   ---------------------------------------- 81.9/81.9 kB 1.5 MB/s eta 0:00:00\n",
      "Installing collected packages: category_encoders\n",
      "Successfully installed category_encoders-2.6.3\n",
      "   color\n",
      "0   rojo\n",
      "1  verde\n",
      "2   azul\n",
      "3   rojo\n",
      "4  verde\n",
      "   color_0  color_1\n",
      "0        0        1\n",
      "1        1        0\n",
      "2        1        1\n",
      "3        0        1\n",
      "4        1        0\n"
     ]
    }
   ],
   "source": [
    "!pip install category_encoders\n",
    "import pandas as pd\n",
    "import category_encoders as ce\n",
    "\n",
    "# Creamos un DataFrame de ejemplo\n",
    "data = {'color': ['rojo', 'verde', 'azul', 'rojo', 'verde']}\n",
    "df = pd.DataFrame(data)\n",
    "print(df)\n",
    "# Creamos una instancia de BinaryEncoder\n",
    "encoder = ce.BinaryEncoder(cols=['color'])\n",
    "\n",
    "# Aplicamos el BinaryEncoder al DataFrame\n",
    "df_encoded = encoder.fit_transform(df)\n",
    "\n",
    "# Mostramos el DataFrame codificado\n",
    "print(df_encoded)\n"
   ]
  },
  {
   "cell_type": "code",
   "execution_count": 26,
   "id": "a410df86-aed5-4a3b-aa5c-1d8810dd3abf",
   "metadata": {},
   "outputs": [
    {
     "name": "stdout",
     "output_type": "stream",
     "text": [
      "   color  target  color_encoded\n",
      "0   rojo       1       2.929074\n",
      "1  verde       2       3.070926\n",
      "2   azul       3       3.000000\n",
      "3   rojo       4       2.929074\n",
      "4  verde       5       3.070926\n"
     ]
    }
   ],
   "source": [
    "import pandas as pd\n",
    "import category_encoders as ce\n",
    "\n",
    "# Creamos un DataFrame de ejemplo\n",
    "data = {'color': ['rojo', 'verde', 'azul', 'rojo', 'verde'],\n",
    "        'target': [1, 2, 3, 4, 5]}  # Supongamos que 'target' es el objetivo\n",
    "\n",
    "df = pd.DataFrame(data)\n",
    "\n",
    "# Creamos una instancia de TargetEncoder\n",
    "encoder = ce.TargetEncoder(cols=['color'])\n",
    "\n",
    "# Aplicamos el TargetEncoder al DataFrame\n",
    "df_encoded = encoder.fit_transform(df['color'], df['target'])\n",
    "\n",
    "# Agregamos las nuevas columnas al DataFrame original\n",
    "df['color_encoded'] = df_encoded\n",
    "\n",
    "# Mostramos el DataFrame con la columna codificada\n",
    "print(df)\n"
   ]
  },
  {
   "cell_type": "code",
   "execution_count": null,
   "id": "de022402-3ad9-4919-ac8d-da4aa84ef3cf",
   "metadata": {},
   "outputs": [],
   "source": []
  }
 ],
 "metadata": {
  "kernelspec": {
   "display_name": "Python 3 (ipykernel)",
   "language": "python",
   "name": "python3"
  },
  "language_info": {
   "codemirror_mode": {
    "name": "ipython",
    "version": 3
   },
   "file_extension": ".py",
   "mimetype": "text/x-python",
   "name": "python",
   "nbconvert_exporter": "python",
   "pygments_lexer": "ipython3",
   "version": "3.11.8"
  }
 },
 "nbformat": 4,
 "nbformat_minor": 5
}
