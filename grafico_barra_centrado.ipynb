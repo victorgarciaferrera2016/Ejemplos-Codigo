{
  "nbformat": 4,
  "nbformat_minor": 0,
  "metadata": {
    "colab": {
      "provenance": []
    },
    "kernelspec": {
      "name": "python3",
      "display_name": "Python 3"
    },
    "language_info": {
      "name": "python"
    }
  },
  "cells": [
    {
      "cell_type": "code",
      "execution_count": null,
      "metadata": {
        "id": "C6PcyfledxEA"
      },
      "outputs": [],
      "source": [
        "# Gráfico de barras de segmentos RFM\n",
        "plt.figure(figsize=(20, 15))\n",
        "fig, ax = plt.subplots(figsize=(20, 10))\n",
        "sns.countplot(data=data_rfm, x='segmento',  ax=ax, palette='viridis')\n",
        "total = len(data_rfm.segmento)\n",
        "for patch in ax.patches:\n",
        "    percentage = '{:.1f}%'.format(100 * patch.get_height()/total)\n",
        "    x = patch.get_x() + patch.get_width() / 2\n",
        "    y = patch.get_y() + patch.get_height()\n",
        "    ax.annotate(percentage, (x, y), ha='center', size=14)  # Centrar la anotación\n",
        "\n",
        "plt.title('Número de Clientes por Segmento', size=16)\n",
        "plt.ylabel('Conteo', size=14)\n",
        "plt.xlabel('SEGMENTO', fontsize=14)\n",
        "plt.xticks(rotation=45, ha='right', size=15)  # Rotar las etiquetas del eje x\n",
        "plt.yticks(size=15)\n",
        "plt.tight_layout()  # Ajustar automáticamente los parámetros de la subtrama para que la subtrama se ajuste al área de la figura"
      ]
    }
  ]
}